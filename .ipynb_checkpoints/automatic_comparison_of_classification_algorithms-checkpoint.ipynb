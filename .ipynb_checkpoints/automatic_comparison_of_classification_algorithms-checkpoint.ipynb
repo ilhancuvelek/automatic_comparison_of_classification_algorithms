{
 "cells": [
  {
   "cell_type": "markdown",
   "id": "a21419b6",
   "metadata": {},
   "source": [
    "# Kütüphanelerin Yüklenmesi"
   ]
  },
  {
   "cell_type": "code",
   "execution_count": 1,
   "id": "75b0ea86",
   "metadata": {},
   "outputs": [],
   "source": [
    "import numpy as np\n",
    "import pandas as pd\n",
    "import seaborn as sns\n",
    "import statsmodels.api as sm\n",
    "from sklearn.model_selection import train_test_split,GridSearchCV,cross_val_score\n",
    "from sklearn.metrics import mean_squared_error,r2_score,confusion_matrix,accuracy_score,classification_report,roc_auc_score,roc_curve\n",
    "import matplotlib.pyplot as plt\n",
    "from sklearn.preprocessing import scale\n",
    "from sklearn.preprocessing import StandardScaler\n",
    "from sklearn import model_selection\n",
    "from sklearn.linear_model import LogisticRegression\n",
    "from sklearn.tree import DecisionTreeClassifier\n",
    "from sklearn.neighbors import KNeighborsClassifier\n",
    "from sklearn.neural_network import MLPClassifier\n",
    "from sklearn.ensemble import RandomForestClassifier\n",
    "from sklearn.ensemble import GradientBoostingClassifier\n",
    "from sklearn.svm import SVC"
   ]
  },
  {
   "cell_type": "code",
   "execution_count": 2,
   "id": "93476552",
   "metadata": {},
   "outputs": [],
   "source": [
    "#uyarılardan kurtulmak için \n",
    "from warnings import filterwarnings\n",
    "filterwarnings(\"ignore\",category=DeprecationWarning)\n",
    "filterwarnings(\"ignore\",category=FutureWarning)"
   ]
  },
  {
   "cell_type": "code",
   "execution_count": 4,
   "id": "db0165f7",
   "metadata": {},
   "outputs": [],
   "source": [
    "df=pd.read_csv(\"./dataset/diabetes.csv\")"
   ]
  },
  {
   "cell_type": "code",
   "execution_count": 5,
   "id": "eccc51fe",
   "metadata": {},
   "outputs": [],
   "source": [
    "y=df[\"Outcome\"]\n",
    "X=df.drop([\"Outcome\"],axis=1)"
   ]
  },
  {
   "cell_type": "code",
   "execution_count": 6,
   "id": "6fb94d5c",
   "metadata": {},
   "outputs": [],
   "source": [
    "X_train,X_test,y_train,y_test=train_test_split(X,y,test_size=0.30,random_state=42)"
   ]
  },
  {
   "cell_type": "markdown",
   "id": "9c2864f1",
   "metadata": {},
   "source": [
    "# Lojistik Regresyon Tuned"
   ]
  },
  {
   "cell_type": "code",
   "execution_count": 7,
   "id": "083d0b32",
   "metadata": {},
   "outputs": [],
   "source": [
    "loj_model=LogisticRegression(solver=\"liblinear\").fit(X_train,y_train)"
   ]
  },
  {
   "cell_type": "markdown",
   "id": "2fb035b1",
   "metadata": {},
   "source": [
    "# KNN Tuned"
   ]
  },
  {
   "cell_type": "code",
   "execution_count": 10,
   "id": "8d32776c",
   "metadata": {},
   "outputs": [],
   "source": [
    "knn_model=KNeighborsClassifier().fit(X_train,y_train)"
   ]
  },
  {
   "cell_type": "code",
   "execution_count": 11,
   "id": "7c991164",
   "metadata": {},
   "outputs": [],
   "source": [
    "knn_params={\"n_neighbors\":np.arange(1,50)}"
   ]
  },
  {
   "cell_type": "code",
   "execution_count": 12,
   "id": "ea24e288",
   "metadata": {},
   "outputs": [],
   "source": [
    "knn_cv_model=GridSearchCV(knn_model,knn_params,cv=10).fit(X_train,y_train)"
   ]
  },
  {
   "cell_type": "code",
   "execution_count": 14,
   "id": "09325b70",
   "metadata": {},
   "outputs": [
    {
     "data": {
      "text/plain": [
       "{'n_neighbors': 11}"
      ]
     },
     "execution_count": 14,
     "metadata": {},
     "output_type": "execute_result"
    }
   ],
   "source": [
    "knn_cv_model.best_params_"
   ]
  },
  {
   "cell_type": "code",
   "execution_count": 15,
   "id": "a7cd9149",
   "metadata": {},
   "outputs": [],
   "source": [
    "knn_tuned_model=KNeighborsClassifier(n_neighbors=11).fit(X_train,y_train)"
   ]
  },
  {
   "cell_type": "markdown",
   "id": "aadc36b7",
   "metadata": {},
   "source": [
    "# SVM Tuned"
   ]
  },
  {
   "cell_type": "code",
   "execution_count": 16,
   "id": "5dd23e7c",
   "metadata": {},
   "outputs": [],
   "source": [
    "svm_model=SVC().fit(X_train,y_train)"
   ]
  },
  {
   "cell_type": "code",
   "execution_count": 17,
   "id": "8cee19af",
   "metadata": {},
   "outputs": [],
   "source": [
    "svm_params={\"C\":np.arange(1,10),\"kernel\":[\"linear\",\"rbf\"]}"
   ]
  },
  {
   "cell_type": "code",
   "execution_count": 18,
   "id": "54a438b0",
   "metadata": {},
   "outputs": [
    {
     "name": "stdout",
     "output_type": "stream",
     "text": [
      "Fitting 5 folds for each of 18 candidates, totalling 90 fits\n"
     ]
    }
   ],
   "source": [
    "svm_cv_model=GridSearchCV(svm_model,svm_params,cv=5,verbose=2,n_jobs=-1).fit(X_train,y_train)"
   ]
  },
  {
   "cell_type": "code",
   "execution_count": 19,
   "id": "d0eef180",
   "metadata": {},
   "outputs": [],
   "source": [
    "svm_tuned_model=SVC(C=2,kernel=\"linear\").fit(X_train,y_train)"
   ]
  },
  {
   "cell_type": "markdown",
   "id": "d001792c",
   "metadata": {},
   "source": [
    "# ANN Tuned"
   ]
  },
  {
   "cell_type": "code",
   "execution_count": 20,
   "id": "7f75c3d3",
   "metadata": {},
   "outputs": [],
   "source": [
    "mlpc_params={\"alpha\":[0.01,0.0001],\n",
    "            \"hidden_layer_sizes\":[(3,5),(100,100)]}"
   ]
  },
  {
   "cell_type": "code",
   "execution_count": 21,
   "id": "7c061d56",
   "metadata": {},
   "outputs": [],
   "source": [
    "mlpc=MLPClassifier(solver=\"lbfgs\",activation=\"logistic\")"
   ]
  },
  {
   "cell_type": "code",
   "execution_count": 22,
   "id": "c0e76e9a",
   "metadata": {},
   "outputs": [
    {
     "name": "stdout",
     "output_type": "stream",
     "text": [
      "Fitting 5 folds for each of 4 candidates, totalling 20 fits\n"
     ]
    }
   ],
   "source": [
    "mlpc_cv_model=GridSearchCV(mlpc,mlpc_params,cv=5,verbose=2,n_jobs=-1).fit(X_train,y_train)"
   ]
  },
  {
   "cell_type": "code",
   "execution_count": 23,
   "id": "f2e6f78b",
   "metadata": {},
   "outputs": [],
   "source": [
    "mlpc_tuned_model=MLPClassifier(solver=\"lbfgs\",activation=\"logistic\",alpha=0.0001,hidden_layer_sizes= (3, 5)).fit(X_train,y_train)"
   ]
  },
  {
   "cell_type": "markdown",
   "id": "0faa2b0d",
   "metadata": {},
   "source": [
    "# CART Tuned"
   ]
  },
  {
   "cell_type": "code",
   "execution_count": 24,
   "id": "27d6dc59",
   "metadata": {},
   "outputs": [],
   "source": [
    "cart=DecisionTreeClassifier()"
   ]
  },
  {
   "cell_type": "code",
   "execution_count": 25,
   "id": "62b659ac",
   "metadata": {},
   "outputs": [],
   "source": [
    "cart_params={\"max_depth\":[1,3,5],\n",
    "            \"min_samples_split\":[2,3,5]}"
   ]
  },
  {
   "cell_type": "code",
   "execution_count": 26,
   "id": "914a3eaf",
   "metadata": {},
   "outputs": [
    {
     "name": "stdout",
     "output_type": "stream",
     "text": [
      "Fitting 10 folds for each of 9 candidates, totalling 90 fits\n"
     ]
    }
   ],
   "source": [
    "cart_cv_model=GridSearchCV(cart,cart_params,cv=10,verbose=2,n_jobs=-1).fit(X_train,y_train)"
   ]
  },
  {
   "cell_type": "code",
   "execution_count": 27,
   "id": "2e28ee48",
   "metadata": {},
   "outputs": [],
   "source": [
    "cart_tuned_model=DecisionTreeClassifier(max_depth=5,min_samples_split=2).fit(X_train,y_train)"
   ]
  },
  {
   "cell_type": "markdown",
   "id": "c020582f",
   "metadata": {},
   "source": [
    "# Random Forest Tuned"
   ]
  },
  {
   "cell_type": "code",
   "execution_count": 31,
   "id": "be9a421d",
   "metadata": {},
   "outputs": [],
   "source": [
    "rf_model=RandomForestClassifier().fit(X_train,y_train)"
   ]
  },
  {
   "cell_type": "code",
   "execution_count": 32,
   "id": "ba90c47f",
   "metadata": {},
   "outputs": [],
   "source": [
    "rf=RandomForestClassifier()"
   ]
  },
  {
   "cell_type": "code",
   "execution_count": 33,
   "id": "1c7082c2",
   "metadata": {},
   "outputs": [],
   "source": [
    "rf_params={\"max_features\":[3,5,17],\n",
    "           \"n_estimators\":[100,200,500,1000],\n",
    "          \"min_samples_split\":[2,5,10,20]}"
   ]
  },
  {
   "cell_type": "code",
   "execution_count": 34,
   "id": "9031cbce",
   "metadata": {},
   "outputs": [
    {
     "name": "stdout",
     "output_type": "stream",
     "text": [
      "Fitting 10 folds for each of 48 candidates, totalling 480 fits\n"
     ]
    }
   ],
   "source": [
    "rf_cv_model=GridSearchCV(rf_model,rf_params,cv=10,verbose=2,n_jobs=-1).fit(X_train,y_train)"
   ]
  },
  {
   "cell_type": "code",
   "execution_count": 35,
   "id": "0132484f",
   "metadata": {},
   "outputs": [],
   "source": [
    "rf_tuned_model=RandomForestClassifier(max_features=5,n_estimators=500,min_samples_split=10).fit(X_train,y_train)"
   ]
  },
  {
   "cell_type": "markdown",
   "id": "080b2b62",
   "metadata": {},
   "source": [
    "# GBM Tuned"
   ]
  },
  {
   "cell_type": "code",
   "execution_count": 36,
   "id": "2843b0d0",
   "metadata": {},
   "outputs": [],
   "source": [
    "gbm=GradientBoostingClassifier()"
   ]
  },
  {
   "cell_type": "code",
   "execution_count": 37,
   "id": "6004f3d8",
   "metadata": {},
   "outputs": [],
   "source": [
    "gbm_params={\"learning_rate\":[0.001,0.1,0.01],\n",
    "           \"max_depth\":[3,5,8],\n",
    "           \"n_estimators\":[100,200,500]}"
   ]
  },
  {
   "cell_type": "code",
   "execution_count": 38,
   "id": "5bfdd4d7",
   "metadata": {},
   "outputs": [
    {
     "name": "stdout",
     "output_type": "stream",
     "text": [
      "Fitting 10 folds for each of 27 candidates, totalling 270 fits\n"
     ]
    }
   ],
   "source": [
    "gbm_cv_model=GridSearchCV(gbm,gbm_params,cv=10,verbose=2,n_jobs=-1).fit(X_train,y_train)"
   ]
  },
  {
   "cell_type": "code",
   "execution_count": 39,
   "id": "9857b674",
   "metadata": {},
   "outputs": [],
   "source": [
    "gbm_tuned_model=GradientBoostingClassifier(learning_rate=0.01,max_depth=3,n_estimators=500).fit(X_train,y_train)"
   ]
  },
  {
   "cell_type": "markdown",
   "id": "28e0a31f",
   "metadata": {},
   "source": [
    "# XGBoost Tuned"
   ]
  },
  {
   "cell_type": "code",
   "execution_count": 41,
   "id": "51be8bff",
   "metadata": {},
   "outputs": [],
   "source": [
    "from xgboost import XGBClassifier\n",
    "xgb=XGBClassifier()"
   ]
  },
  {
   "cell_type": "code",
   "execution_count": 42,
   "id": "2a61509c",
   "metadata": {},
   "outputs": [],
   "source": [
    "xgb_params={\"learning_rate\":[0.1,0.01,0.5],\n",
    "           \"max_depth\":[2,3,4,5,8],\n",
    "           \"n_estimators\":[100,200,500,1000],\n",
    "           \"subsample\":[0.6,0.8,1.0]}"
   ]
  },
  {
   "cell_type": "code",
   "execution_count": 43,
   "id": "4044a9dd",
   "metadata": {},
   "outputs": [
    {
     "name": "stdout",
     "output_type": "stream",
     "text": [
      "Fitting 10 folds for each of 180 candidates, totalling 1800 fits\n"
     ]
    }
   ],
   "source": [
    "xgb_cv_model=GridSearchCV(xgb,xgb_params,cv=10,n_jobs=-1,verbose=2).fit(X_train,y_train)"
   ]
  },
  {
   "cell_type": "code",
   "execution_count": 44,
   "id": "482a7dd1",
   "metadata": {},
   "outputs": [],
   "source": [
    "xgb_tuned_model=XGBClassifier(learning_rate=0.01,max_depth=5,n_estimators=200,subsample=1.0).fit(X_train,y_train)"
   ]
  },
  {
   "cell_type": "markdown",
   "id": "664cbe5d",
   "metadata": {},
   "source": [
    "# Light GBM Tuned"
   ]
  },
  {
   "cell_type": "code",
   "execution_count": 46,
   "id": "35f149e5",
   "metadata": {},
   "outputs": [],
   "source": [
    "from lightgbm import LGBMClassifier\n",
    "lgbm=LGBMClassifier()"
   ]
  },
  {
   "cell_type": "code",
   "execution_count": 47,
   "id": "28eb76fc",
   "metadata": {},
   "outputs": [],
   "source": [
    "lgb_params={\"learning_rate\":[0.1,0.01,0.5],\n",
    "           \"max_depth\":[2,3,4,5,8],\n",
    "           \"n_estimators\":[200,500,1000]}"
   ]
  },
  {
   "cell_type": "code",
   "execution_count": 48,
   "id": "4c082038",
   "metadata": {},
   "outputs": [
    {
     "name": "stdout",
     "output_type": "stream",
     "text": [
      "Fitting 10 folds for each of 45 candidates, totalling 450 fits\n"
     ]
    }
   ],
   "source": [
    "lgb_cv_model=GridSearchCV(lgbm,lgb_params,cv=10,verbose=2,n_jobs=-1).fit(X_train,y_train)"
   ]
  },
  {
   "cell_type": "code",
   "execution_count": 49,
   "id": "d173e09b",
   "metadata": {},
   "outputs": [],
   "source": [
    "lgb_tuned_model=LGBMClassifier(learning_rate=0.01,max_depth=3,n_estimators=500).fit(X_train,y_train)"
   ]
  },
  {
   "cell_type": "markdown",
   "id": "43ccd5e1",
   "metadata": {},
   "source": [
    "# CatBoost Tuned"
   ]
  },
  {
   "cell_type": "code",
   "execution_count": 50,
   "id": "d5443e7c",
   "metadata": {},
   "outputs": [],
   "source": [
    "from catboost import CatBoostClassifier\n",
    "catb=CatBoostClassifier(verbose=False)"
   ]
  },
  {
   "cell_type": "code",
   "execution_count": 51,
   "id": "ad7bfd1c",
   "metadata": {},
   "outputs": [],
   "source": [
    "catb_params={\"iterations\":[100,200],\n",
    "            \"learning_rate\":[0.1,0.01],\n",
    "            \"depth\":[3,6]}"
   ]
  },
  {
   "cell_type": "code",
   "execution_count": 52,
   "id": "0f673518",
   "metadata": {},
   "outputs": [
    {
     "name": "stdout",
     "output_type": "stream",
     "text": [
      "Fitting 10 folds for each of 8 candidates, totalling 80 fits\n"
     ]
    }
   ],
   "source": [
    "catb_cv_model=GridSearchCV(catb,catb_params,cv=10,verbose=2,n_jobs=-1).fit(X_train,y_train)"
   ]
  },
  {
   "cell_type": "code",
   "execution_count": 53,
   "id": "db5afe11",
   "metadata": {
    "scrolled": true
   },
   "outputs": [
    {
     "name": "stdout",
     "output_type": "stream",
     "text": [
      "0:\tlearn: 0.6866113\ttotal: 6.17ms\tremaining: 1.23s\n",
      "1:\tlearn: 0.6820420\ttotal: 11.7ms\tremaining: 1.16s\n",
      "2:\tlearn: 0.6773253\ttotal: 17.2ms\tremaining: 1.13s\n",
      "3:\tlearn: 0.6723310\ttotal: 23ms\tremaining: 1.13s\n",
      "4:\tlearn: 0.6667397\ttotal: 28.5ms\tremaining: 1.11s\n",
      "5:\tlearn: 0.6618785\ttotal: 38.6ms\tremaining: 1.25s\n",
      "6:\tlearn: 0.6569812\ttotal: 45.9ms\tremaining: 1.26s\n",
      "7:\tlearn: 0.6521862\ttotal: 53.4ms\tremaining: 1.28s\n",
      "8:\tlearn: 0.6472566\ttotal: 59ms\tremaining: 1.25s\n",
      "9:\tlearn: 0.6431082\ttotal: 63.8ms\tremaining: 1.21s\n",
      "10:\tlearn: 0.6381592\ttotal: 69.7ms\tremaining: 1.2s\n",
      "11:\tlearn: 0.6342018\ttotal: 74.6ms\tremaining: 1.17s\n",
      "12:\tlearn: 0.6300329\ttotal: 79.5ms\tremaining: 1.14s\n",
      "13:\tlearn: 0.6246713\ttotal: 85ms\tremaining: 1.13s\n",
      "14:\tlearn: 0.6205106\ttotal: 89.9ms\tremaining: 1.11s\n",
      "15:\tlearn: 0.6163001\ttotal: 94.7ms\tremaining: 1.09s\n",
      "16:\tlearn: 0.6129572\ttotal: 99.9ms\tremaining: 1.07s\n",
      "17:\tlearn: 0.6095019\ttotal: 105ms\tremaining: 1.06s\n",
      "18:\tlearn: 0.6055700\ttotal: 110ms\tremaining: 1.04s\n",
      "19:\tlearn: 0.6015489\ttotal: 115ms\tremaining: 1.03s\n",
      "20:\tlearn: 0.5972200\ttotal: 119ms\tremaining: 1.02s\n",
      "21:\tlearn: 0.5939091\ttotal: 124ms\tremaining: 1s\n",
      "22:\tlearn: 0.5897660\ttotal: 129ms\tremaining: 991ms\n",
      "23:\tlearn: 0.5862534\ttotal: 134ms\tremaining: 979ms\n",
      "24:\tlearn: 0.5826319\ttotal: 139ms\tremaining: 970ms\n",
      "25:\tlearn: 0.5794107\ttotal: 143ms\tremaining: 958ms\n",
      "26:\tlearn: 0.5756582\ttotal: 148ms\tremaining: 948ms\n",
      "27:\tlearn: 0.5724324\ttotal: 153ms\tremaining: 938ms\n",
      "28:\tlearn: 0.5686334\ttotal: 157ms\tremaining: 928ms\n",
      "29:\tlearn: 0.5643976\ttotal: 162ms\tremaining: 919ms\n",
      "30:\tlearn: 0.5605138\ttotal: 168ms\tremaining: 917ms\n",
      "31:\tlearn: 0.5571335\ttotal: 173ms\tremaining: 909ms\n",
      "32:\tlearn: 0.5539803\ttotal: 178ms\tremaining: 900ms\n",
      "33:\tlearn: 0.5520985\ttotal: 183ms\tremaining: 892ms\n",
      "34:\tlearn: 0.5493692\ttotal: 187ms\tremaining: 884ms\n",
      "35:\tlearn: 0.5466615\ttotal: 192ms\tremaining: 875ms\n",
      "36:\tlearn: 0.5435662\ttotal: 197ms\tremaining: 868ms\n",
      "37:\tlearn: 0.5415890\ttotal: 202ms\tremaining: 860ms\n",
      "38:\tlearn: 0.5391752\ttotal: 206ms\tremaining: 852ms\n",
      "39:\tlearn: 0.5362590\ttotal: 214ms\tremaining: 855ms\n",
      "40:\tlearn: 0.5332829\ttotal: 219ms\tremaining: 851ms\n",
      "41:\tlearn: 0.5307497\ttotal: 225ms\tremaining: 848ms\n",
      "42:\tlearn: 0.5284077\ttotal: 231ms\tremaining: 843ms\n",
      "43:\tlearn: 0.5256461\ttotal: 237ms\tremaining: 841ms\n",
      "44:\tlearn: 0.5231074\ttotal: 243ms\tremaining: 835ms\n",
      "45:\tlearn: 0.5204978\ttotal: 247ms\tremaining: 828ms\n",
      "46:\tlearn: 0.5188576\ttotal: 252ms\tremaining: 821ms\n",
      "47:\tlearn: 0.5169748\ttotal: 257ms\tremaining: 815ms\n",
      "48:\tlearn: 0.5142555\ttotal: 262ms\tremaining: 807ms\n",
      "49:\tlearn: 0.5122731\ttotal: 267ms\tremaining: 800ms\n",
      "50:\tlearn: 0.5097616\ttotal: 272ms\tremaining: 794ms\n",
      "51:\tlearn: 0.5075945\ttotal: 276ms\tremaining: 786ms\n",
      "52:\tlearn: 0.5046676\ttotal: 281ms\tremaining: 779ms\n",
      "53:\tlearn: 0.5032422\ttotal: 285ms\tremaining: 772ms\n",
      "54:\tlearn: 0.5011022\ttotal: 290ms\tremaining: 766ms\n",
      "55:\tlearn: 0.4988288\ttotal: 295ms\tremaining: 759ms\n",
      "56:\tlearn: 0.4967613\ttotal: 301ms\tremaining: 755ms\n",
      "57:\tlearn: 0.4948998\ttotal: 307ms\tremaining: 750ms\n",
      "58:\tlearn: 0.4924828\ttotal: 312ms\tremaining: 745ms\n",
      "59:\tlearn: 0.4901068\ttotal: 317ms\tremaining: 739ms\n",
      "60:\tlearn: 0.4885958\ttotal: 322ms\tremaining: 734ms\n",
      "61:\tlearn: 0.4872375\ttotal: 327ms\tremaining: 728ms\n",
      "62:\tlearn: 0.4858418\ttotal: 333ms\tremaining: 723ms\n",
      "63:\tlearn: 0.4843958\ttotal: 338ms\tremaining: 718ms\n",
      "64:\tlearn: 0.4824834\ttotal: 343ms\tremaining: 712ms\n",
      "65:\tlearn: 0.4808255\ttotal: 348ms\tremaining: 707ms\n",
      "66:\tlearn: 0.4796679\ttotal: 355ms\tremaining: 705ms\n",
      "67:\tlearn: 0.4776853\ttotal: 362ms\tremaining: 702ms\n",
      "68:\tlearn: 0.4763446\ttotal: 431ms\tremaining: 818ms\n",
      "69:\tlearn: 0.4749587\ttotal: 456ms\tremaining: 847ms\n",
      "70:\tlearn: 0.4734991\ttotal: 480ms\tremaining: 872ms\n",
      "71:\tlearn: 0.4716417\ttotal: 491ms\tremaining: 873ms\n",
      "72:\tlearn: 0.4701901\ttotal: 496ms\tremaining: 863ms\n",
      "73:\tlearn: 0.4685817\ttotal: 519ms\tremaining: 884ms\n",
      "74:\tlearn: 0.4669715\ttotal: 538ms\tremaining: 897ms\n",
      "75:\tlearn: 0.4655054\ttotal: 564ms\tremaining: 920ms\n",
      "76:\tlearn: 0.4636691\ttotal: 583ms\tremaining: 931ms\n",
      "77:\tlearn: 0.4619943\ttotal: 591ms\tremaining: 925ms\n",
      "78:\tlearn: 0.4605819\ttotal: 596ms\tremaining: 913ms\n",
      "79:\tlearn: 0.4588006\ttotal: 602ms\tremaining: 903ms\n",
      "80:\tlearn: 0.4575735\ttotal: 608ms\tremaining: 893ms\n",
      "81:\tlearn: 0.4560413\ttotal: 614ms\tremaining: 883ms\n",
      "82:\tlearn: 0.4543587\ttotal: 620ms\tremaining: 874ms\n",
      "83:\tlearn: 0.4526833\ttotal: 626ms\tremaining: 865ms\n",
      "84:\tlearn: 0.4512435\ttotal: 634ms\tremaining: 858ms\n",
      "85:\tlearn: 0.4495744\ttotal: 642ms\tremaining: 851ms\n",
      "86:\tlearn: 0.4482427\ttotal: 648ms\tremaining: 841ms\n",
      "87:\tlearn: 0.4473266\ttotal: 653ms\tremaining: 832ms\n",
      "88:\tlearn: 0.4459872\ttotal: 659ms\tremaining: 822ms\n",
      "89:\tlearn: 0.4448316\ttotal: 667ms\tremaining: 815ms\n",
      "90:\tlearn: 0.4431628\ttotal: 673ms\tremaining: 807ms\n",
      "91:\tlearn: 0.4417392\ttotal: 679ms\tremaining: 797ms\n",
      "92:\tlearn: 0.4402462\ttotal: 686ms\tremaining: 789ms\n",
      "93:\tlearn: 0.4387987\ttotal: 692ms\tremaining: 780ms\n",
      "94:\tlearn: 0.4376859\ttotal: 698ms\tremaining: 771ms\n",
      "95:\tlearn: 0.4367912\ttotal: 704ms\tremaining: 763ms\n",
      "96:\tlearn: 0.4353978\ttotal: 710ms\tremaining: 754ms\n",
      "97:\tlearn: 0.4343873\ttotal: 715ms\tremaining: 745ms\n",
      "98:\tlearn: 0.4331914\ttotal: 722ms\tremaining: 737ms\n",
      "99:\tlearn: 0.4321417\ttotal: 728ms\tremaining: 728ms\n",
      "100:\tlearn: 0.4310117\ttotal: 734ms\tremaining: 720ms\n",
      "101:\tlearn: 0.4301851\ttotal: 740ms\tremaining: 711ms\n",
      "102:\tlearn: 0.4291350\ttotal: 747ms\tremaining: 703ms\n",
      "103:\tlearn: 0.4279293\ttotal: 753ms\tremaining: 695ms\n",
      "104:\tlearn: 0.4265615\ttotal: 759ms\tremaining: 687ms\n",
      "105:\tlearn: 0.4255089\ttotal: 765ms\tremaining: 679ms\n",
      "106:\tlearn: 0.4245737\ttotal: 772ms\tremaining: 671ms\n",
      "107:\tlearn: 0.4237179\ttotal: 778ms\tremaining: 663ms\n",
      "108:\tlearn: 0.4227766\ttotal: 785ms\tremaining: 655ms\n",
      "109:\tlearn: 0.4218508\ttotal: 791ms\tremaining: 647ms\n",
      "110:\tlearn: 0.4206121\ttotal: 797ms\tremaining: 639ms\n",
      "111:\tlearn: 0.4198969\ttotal: 803ms\tremaining: 631ms\n",
      "112:\tlearn: 0.4185688\ttotal: 811ms\tremaining: 624ms\n",
      "113:\tlearn: 0.4174145\ttotal: 818ms\tremaining: 617ms\n",
      "114:\tlearn: 0.4164699\ttotal: 824ms\tremaining: 609ms\n",
      "115:\tlearn: 0.4157620\ttotal: 832ms\tremaining: 603ms\n",
      "116:\tlearn: 0.4148268\ttotal: 839ms\tremaining: 595ms\n",
      "117:\tlearn: 0.4140642\ttotal: 845ms\tremaining: 587ms\n",
      "118:\tlearn: 0.4130338\ttotal: 852ms\tremaining: 580ms\n",
      "119:\tlearn: 0.4119591\ttotal: 860ms\tremaining: 573ms\n",
      "120:\tlearn: 0.4114114\ttotal: 866ms\tremaining: 565ms\n",
      "121:\tlearn: 0.4105539\ttotal: 873ms\tremaining: 558ms\n",
      "122:\tlearn: 0.4096353\ttotal: 880ms\tremaining: 551ms\n",
      "123:\tlearn: 0.4090106\ttotal: 891ms\tremaining: 546ms\n",
      "124:\tlearn: 0.4080955\ttotal: 897ms\tremaining: 538ms\n",
      "125:\tlearn: 0.4074145\ttotal: 903ms\tremaining: 531ms\n",
      "126:\tlearn: 0.4065015\ttotal: 926ms\tremaining: 532ms\n",
      "127:\tlearn: 0.4059426\ttotal: 932ms\tremaining: 524ms\n",
      "128:\tlearn: 0.4051631\ttotal: 939ms\tremaining: 517ms\n",
      "129:\tlearn: 0.4043812\ttotal: 949ms\tremaining: 511ms\n",
      "130:\tlearn: 0.4037781\ttotal: 970ms\tremaining: 511ms\n",
      "131:\tlearn: 0.4025760\ttotal: 998ms\tremaining: 514ms\n",
      "132:\tlearn: 0.4015859\ttotal: 1.04s\tremaining: 524ms\n",
      "133:\tlearn: 0.4005569\ttotal: 1.05s\tremaining: 516ms\n",
      "134:\tlearn: 0.3999188\ttotal: 1.05s\tremaining: 507ms\n",
      "135:\tlearn: 0.3989877\ttotal: 1.06s\tremaining: 499ms\n",
      "136:\tlearn: 0.3984148\ttotal: 1.06s\tremaining: 490ms\n",
      "137:\tlearn: 0.3976699\ttotal: 1.07s\tremaining: 481ms\n",
      "138:\tlearn: 0.3969187\ttotal: 1.08s\tremaining: 473ms\n",
      "139:\tlearn: 0.3959393\ttotal: 1.08s\tremaining: 465ms\n",
      "140:\tlearn: 0.3951139\ttotal: 1.09s\tremaining: 457ms\n",
      "141:\tlearn: 0.3940669\ttotal: 1.1s\tremaining: 449ms\n",
      "142:\tlearn: 0.3936423\ttotal: 1.1s\tremaining: 441ms\n",
      "143:\tlearn: 0.3929888\ttotal: 1.11s\tremaining: 432ms\n",
      "144:\tlearn: 0.3924812\ttotal: 1.12s\tremaining: 424ms\n",
      "145:\tlearn: 0.3919268\ttotal: 1.12s\tremaining: 416ms\n",
      "146:\tlearn: 0.3916363\ttotal: 1.13s\tremaining: 408ms\n",
      "147:\tlearn: 0.3908099\ttotal: 1.14s\tremaining: 400ms\n",
      "148:\tlearn: 0.3900964\ttotal: 1.15s\tremaining: 392ms\n",
      "149:\tlearn: 0.3888671\ttotal: 1.15s\tremaining: 384ms\n",
      "150:\tlearn: 0.3876823\ttotal: 1.16s\tremaining: 376ms\n",
      "151:\tlearn: 0.3871513\ttotal: 1.16s\tremaining: 367ms\n",
      "152:\tlearn: 0.3862691\ttotal: 1.17s\tremaining: 359ms\n",
      "153:\tlearn: 0.3856153\ttotal: 1.18s\tremaining: 351ms\n",
      "154:\tlearn: 0.3847403\ttotal: 1.18s\tremaining: 343ms\n",
      "155:\tlearn: 0.3840728\ttotal: 1.19s\tremaining: 336ms\n",
      "156:\tlearn: 0.3830989\ttotal: 1.2s\tremaining: 328ms\n",
      "157:\tlearn: 0.3827085\ttotal: 1.2s\tremaining: 320ms\n",
      "158:\tlearn: 0.3817669\ttotal: 1.21s\tremaining: 312ms\n",
      "159:\tlearn: 0.3811829\ttotal: 1.22s\tremaining: 304ms\n",
      "160:\tlearn: 0.3806498\ttotal: 1.22s\tremaining: 296ms\n",
      "161:\tlearn: 0.3799282\ttotal: 1.23s\tremaining: 288ms\n",
      "162:\tlearn: 0.3791868\ttotal: 1.24s\tremaining: 280ms\n"
     ]
    },
    {
     "name": "stdout",
     "output_type": "stream",
     "text": [
      "163:\tlearn: 0.3784070\ttotal: 1.24s\tremaining: 273ms\n",
      "164:\tlearn: 0.3776243\ttotal: 1.25s\tremaining: 265ms\n",
      "165:\tlearn: 0.3770564\ttotal: 1.25s\tremaining: 257ms\n",
      "166:\tlearn: 0.3765252\ttotal: 1.26s\tremaining: 249ms\n",
      "167:\tlearn: 0.3760049\ttotal: 1.27s\tremaining: 241ms\n",
      "168:\tlearn: 0.3756439\ttotal: 1.27s\tremaining: 234ms\n",
      "169:\tlearn: 0.3749414\ttotal: 1.28s\tremaining: 226ms\n",
      "170:\tlearn: 0.3744198\ttotal: 1.29s\tremaining: 218ms\n",
      "171:\tlearn: 0.3735605\ttotal: 1.29s\tremaining: 211ms\n",
      "172:\tlearn: 0.3728886\ttotal: 1.3s\tremaining: 203ms\n",
      "173:\tlearn: 0.3725355\ttotal: 1.31s\tremaining: 195ms\n",
      "174:\tlearn: 0.3721293\ttotal: 1.31s\tremaining: 188ms\n",
      "175:\tlearn: 0.3716135\ttotal: 1.32s\tremaining: 180ms\n",
      "176:\tlearn: 0.3711329\ttotal: 1.33s\tremaining: 172ms\n",
      "177:\tlearn: 0.3703870\ttotal: 1.33s\tremaining: 165ms\n",
      "178:\tlearn: 0.3699048\ttotal: 1.34s\tremaining: 157ms\n",
      "179:\tlearn: 0.3692512\ttotal: 1.34s\tremaining: 149ms\n",
      "180:\tlearn: 0.3687230\ttotal: 1.35s\tremaining: 142ms\n",
      "181:\tlearn: 0.3680713\ttotal: 1.36s\tremaining: 134ms\n",
      "182:\tlearn: 0.3676993\ttotal: 1.36s\tremaining: 127ms\n",
      "183:\tlearn: 0.3671101\ttotal: 1.37s\tremaining: 119ms\n",
      "184:\tlearn: 0.3661635\ttotal: 1.38s\tremaining: 112ms\n",
      "185:\tlearn: 0.3655107\ttotal: 1.39s\tremaining: 104ms\n",
      "186:\tlearn: 0.3647026\ttotal: 1.39s\tremaining: 96.9ms\n",
      "187:\tlearn: 0.3641000\ttotal: 1.4s\tremaining: 89.3ms\n",
      "188:\tlearn: 0.3636313\ttotal: 1.41s\tremaining: 81.8ms\n",
      "189:\tlearn: 0.3632177\ttotal: 1.41s\tremaining: 74.3ms\n",
      "190:\tlearn: 0.3626260\ttotal: 1.42s\tremaining: 66.8ms\n",
      "191:\tlearn: 0.3619924\ttotal: 1.42s\tremaining: 59.3ms\n",
      "192:\tlearn: 0.3612833\ttotal: 1.43s\tremaining: 51.8ms\n",
      "193:\tlearn: 0.3608851\ttotal: 1.44s\tremaining: 44.4ms\n",
      "194:\tlearn: 0.3603045\ttotal: 1.45s\tremaining: 37.1ms\n",
      "195:\tlearn: 0.3599012\ttotal: 1.45s\tremaining: 29.6ms\n",
      "196:\tlearn: 0.3594754\ttotal: 1.46s\tremaining: 22.2ms\n",
      "197:\tlearn: 0.3586095\ttotal: 1.47s\tremaining: 14.8ms\n",
      "198:\tlearn: 0.3581177\ttotal: 1.47s\tremaining: 7.39ms\n",
      "199:\tlearn: 0.3577678\ttotal: 1.48s\tremaining: 0us\n"
     ]
    }
   ],
   "source": [
    "catb_tuned_model=CatBoostClassifier(depth=6,iterations=200,learning_rate=0.01).fit(X_train,y_train)"
   ]
  },
  {
   "cell_type": "markdown",
   "id": "ed338f1a",
   "metadata": {},
   "source": [
    "# Automatic Comparison Of Classification Algorithms"
   ]
  },
  {
   "cell_type": "code",
   "execution_count": 54,
   "id": "4cd1cbe3",
   "metadata": {},
   "outputs": [],
   "source": [
    "modeller=[\n",
    "    loj_model,\n",
    "    knn_tuned_model,\n",
    "    svm_tuned_model,\n",
    "    mlpc_tuned_model,\n",
    "    cart_tuned_model,\n",
    "    rf_tuned_model,\n",
    "    gbm_tuned_model,\n",
    "    xgb_tuned_model,\n",
    "    lgb_tuned_model,\n",
    "    catb_tuned_model\n",
    "]"
   ]
  },
  {
   "cell_type": "code",
   "execution_count": 56,
   "id": "9fcffb91",
   "metadata": {},
   "outputs": [],
   "source": [
    "sonuc=[]\n",
    "sonuclar=pd.DataFrame(columns=[\"Modeller\",\"Accuracy\"])\n",
    "\n",
    "for model in modeller:\n",
    "    isimler=model.__class__.__name__\n",
    "    y_pred=model.predict(X_test)\n",
    "    dogruluk=accuracy_score(y_test,y_pred)\n",
    "    sonuc=pd.DataFrame([[isimler,dogruluk*100]],columns=[\"Modeller\",\"Accuracy\"])\n",
    "    sonuclar=sonuclar.append(sonuc)"
   ]
  },
  {
   "cell_type": "code",
   "execution_count": 57,
   "id": "c4e01c1e",
   "metadata": {},
   "outputs": [
    {
     "data": {
      "text/plain": [
       "Text(0, 0.5, 'Modellerin Doğruluk Oranları')"
      ]
     },
     "execution_count": 57,
     "metadata": {},
     "output_type": "execute_result"
    },
    {
     "data": {
      "image/png": "[encoded data removed]",
      "text/plain": [
       "<Figure size 640x480 with 1 Axes>"
      ]
     },
     "metadata": {},
     "output_type": "display_data"
    }
   ],
   "source": [
    "sns.barplot(x=\"Accuracy\",y=\"Modeller\",data=sonuclar,color=\"r\")\n",
    "plt.xlabel(\"Accuracy %\")\n",
    "plt.ylabel(\"Modellerin Doğruluk Oranları\")"
   ]
  },
  {
   "cell_type": "code",
   "execution_count": 58,
   "id": "5c3d9aa6",
   "metadata": {},
   "outputs": [
    {
     "data": {
      "text/html": [
       "<div>\n",
       "<style scoped>\n",
       "    .dataframe tbody tr th:only-of-type {\n",
       "        vertical-align: middle;\n",
       "    }\n",
       "\n",
       "    .dataframe tbody tr th {\n",
       "        vertical-align: top;\n",
       "    }\n",
       "\n",
       "    .dataframe thead th {\n",
       "        text-align: right;\n",
       "    }\n",
       "</style>\n",
       "<table border=\"1\" class=\"dataframe\">\n",
       "  <thead>\n",
       "    <tr style=\"text-align: right;\">\n",
       "      <th></th>\n",
       "      <th>Modeller</th>\n",
       "      <th>Accuracy</th>\n",
       "    </tr>\n",
       "  </thead>\n",
       "  <tbody>\n",
       "    <tr>\n",
       "      <th>0</th>\n",
       "      <td>LogisticRegression</td>\n",
       "      <td>75.324675</td>\n",
       "    </tr>\n",
       "    <tr>\n",
       "      <th>0</th>\n",
       "      <td>KNeighborsClassifier</td>\n",
       "      <td>73.160173</td>\n",
       "    </tr>\n",
       "    <tr>\n",
       "      <th>0</th>\n",
       "      <td>SVC</td>\n",
       "      <td>74.458874</td>\n",
       "    </tr>\n",
       "    <tr>\n",
       "      <th>0</th>\n",
       "      <td>MLPClassifier</td>\n",
       "      <td>56.277056</td>\n",
       "    </tr>\n",
       "    <tr>\n",
       "      <th>0</th>\n",
       "      <td>DecisionTreeClassifier</td>\n",
       "      <td>75.324675</td>\n",
       "    </tr>\n",
       "    <tr>\n",
       "      <th>0</th>\n",
       "      <td>RandomForestClassifier</td>\n",
       "      <td>75.324675</td>\n",
       "    </tr>\n",
       "    <tr>\n",
       "      <th>0</th>\n",
       "      <td>GradientBoostingClassifier</td>\n",
       "      <td>74.025974</td>\n",
       "    </tr>\n",
       "    <tr>\n",
       "      <th>0</th>\n",
       "      <td>XGBClassifier</td>\n",
       "      <td>75.324675</td>\n",
       "    </tr>\n",
       "    <tr>\n",
       "      <th>0</th>\n",
       "      <td>LGBMClassifier</td>\n",
       "      <td>75.324675</td>\n",
       "    </tr>\n",
       "    <tr>\n",
       "      <th>0</th>\n",
       "      <td>CatBoostClassifier</td>\n",
       "      <td>76.190476</td>\n",
       "    </tr>\n",
       "  </tbody>\n",
       "</table>\n",
       "</div>"
      ],
      "text/plain": [
       "                     Modeller   Accuracy\n",
       "0          LogisticRegression  75.324675\n",
       "0        KNeighborsClassifier  73.160173\n",
       "0                         SVC  74.458874\n",
       "0               MLPClassifier  56.277056\n",
       "0      DecisionTreeClassifier  75.324675\n",
       "0      RandomForestClassifier  75.324675\n",
       "0  GradientBoostingClassifier  74.025974\n",
       "0               XGBClassifier  75.324675\n",
       "0              LGBMClassifier  75.324675\n",
       "0          CatBoostClassifier  76.190476"
      ]
     },
     "execution_count": 58,
     "metadata": {},
     "output_type": "execute_result"
    }
   ],
   "source": [
    "sonuclar"
   ]
  },
  {
   "cell_type": "code",
   "execution_count": null,
   "id": "d7d61d58",
   "metadata": {},
   "outputs": [],
   "source": []
  }
 ],
 "metadata": {
  "kernelspec": {
   "display_name": "Python 3 (ipykernel)",
   "language": "python",
   "name": "python3"
  },
  "language_info": {
   "codemirror_mode": {
    "name": "ipython",
    "version": 3
   },
   "file_extension": ".py",
   "mimetype": "text/x-python",
   "name": "python",
   "nbconvert_exporter": "python",
   "pygments_lexer": "ipython3",
   "version": "3.10.4"
  }
 },
 "nbformat": 4,
 "nbformat_minor": 5
}
